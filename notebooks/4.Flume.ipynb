{
 "cells": [
  {
   "cell_type": "markdown",
   "metadata": {},
   "source": [
    "# Flume\n",
    "![Flume](https://flume.apache.org/_static/flume-logo.png)\n",
    "\n",
    "- https://flume.apache.org"
   ]
  },
  {
   "cell_type": "markdown",
   "metadata": {},
   "source": [
    "## Setup\n",
    "\n",
    "- download from https://flume.apache.org/download.html\n",
    "- version 1.9.0"
   ]
  },
  {
   "cell_type": "code",
   "execution_count": 6,
   "metadata": {},
   "outputs": [
    {
     "name": "stdout",
     "output_type": "stream",
     "text": [
      "export JAVA_HOME=/usr/lib/jvm/java-1.8.0-openjdk-amd64\n",
      "export PDSH_RCMD_TYPE=ssh\n",
      "\n",
      "export HADOOP_HOME=/opt/hadoop\n",
      "export HADOOP_COMMON_HOME=${HADOOP_HOME}\n",
      "export HADOOP_CONF_DIR=${HADOOP_HOME}/etc/hadoop\n",
      "export HADOOP_HDFS_HOME=${HADOOP_HOME}\n",
      "export HADOOP_MAPRED_HOME=${HADOOP_HOME}\n",
      "export HADOOP_YARN_HOME=${HADOOP_HOME}\n",
      "\n",
      "export PATH=${PATH}:${HADOOP_HOME}/bin:${HADOOP_HOME}/sbin     \n",
      "\n",
      "# Flume\n",
      "export FLUME_HOME=/opt/flume\n",
      "export PATH=${PATH}:${FLUME_HOME}/bin\n",
      "\n"
     ]
    }
   ],
   "source": [
    "%%bash\n",
    "\n",
    "# Download package\n",
    "cd /opt/pkgs\n",
    "#wget -q -c https://downloads.apache.org/flume/1.9.0/apache-flume-1.9.0-bin.tar.gz\n",
    "\n",
    "# unpack file and create link\n",
    "tar -zxf /opt/pkgs/apache-flume-1.9.0-bin.tar.gz -C /opt\n",
    "ln -s /opt/apache-flume-1.9.0-bin /opt/flume\n",
    "\n",
    "# update guava library on Flume\n",
    "rm -f /opt/flume/lib/guava-11.0.2.jar \n",
    "cp -f /opt/hadoop/share/hadoop/common/lib/guava-27.0-jre.jar /opt/flume/lib\n",
    "\n",
    "# update envvars.sh\n",
    "cat >> /opt/envvars.sh << EOF\n",
    "# Flume\n",
    "export FLUME_HOME=/opt/flume\n",
    "export PATH=\\${PATH}:\\${FLUME_HOME}/bin\n",
    "\n",
    "EOF\n",
    "\n",
    "cat /opt/envvars.sh"
   ]
  },
  {
   "cell_type": "code",
   "execution_count": 7,
   "metadata": {},
   "outputs": [
    {
     "name": "stdout",
     "output_type": "stream",
     "text": [
      "The dotenv extension is already loaded. To reload it, use:\n",
      "  %reload_ext dotenv\n"
     ]
    },
    {
     "data": {
      "text/plain": [
       "{'HOSTNAME': 'hadoop',\n",
       " 'OLDPWD': '/',\n",
       " 'PWD': '/opt',\n",
       " 'HOME': '/home/hadoop',\n",
       " 'SHELL': '/bin/bash',\n",
       " 'SHLVL': '1',\n",
       " 'PATH': '/usr/local/sbin:/usr/local/bin:/usr/sbin:/usr/bin:/sbin:/bin:/opt/hadoop/bin:/opt/hadoop/sbin:/opt/hadoop/bin:/opt/hadoop/sbin:/opt/hadoop/bin:/opt/hadoop/sbin:/opt/flume/bin',\n",
       " '_': '/usr/bin/nohup',\n",
       " 'JPY_PARENT_PID': '2960',\n",
       " 'TERM': 'xterm-color',\n",
       " 'CLICOLOR': '1',\n",
       " 'PAGER': 'cat',\n",
       " 'GIT_PAGER': 'cat',\n",
       " 'MPLBACKEND': 'module://ipykernel.pylab.backend_inline',\n",
       " 'JAVA_HOME': '/usr/lib/jvm/java-1.8.0-openjdk-amd64',\n",
       " 'PDSH_RCMD_TYPE': 'ssh',\n",
       " 'HADOOP_HOME': '/opt/hadoop',\n",
       " 'HADOOP_COMMON_HOME': '/opt/hadoop',\n",
       " 'HADOOP_CONF_DIR': '/opt/hadoop/etc/hadoop',\n",
       " 'HADOOP_HDFS_HOME': '/opt/hadoop',\n",
       " 'HADOOP_MAPRED_HOME': '/opt/hadoop',\n",
       " 'HADOOP_YARN_HOME': '/opt/hadoop',\n",
       " 'FLUME_HOME': '/opt/flume'}"
      ]
     },
     "execution_count": 7,
     "metadata": {},
     "output_type": "execute_result"
    }
   ],
   "source": [
    "# Load environment variables\n",
    "%load_ext dotenv\n",
    "%dotenv -o /opt/envvars.sh\n",
    "%env"
   ]
  },
  {
   "cell_type": "markdown",
   "metadata": {},
   "source": [
    "## Tailagent example\n",
    "\n",
    "- https://flume.apache.org/releases/content/1.9.0/FlumeUserGuide.html"
   ]
  },
  {
   "cell_type": "code",
   "execution_count": 8,
   "metadata": {},
   "outputs": [
    {
     "name": "stdout",
     "output_type": "stream",
     "text": [
      "Writing /opt/flume/conf/tailagent.conf\n"
     ]
    }
   ],
   "source": [
    "%%writefile /opt/flume/conf/tailagent.conf\n",
    "# Agent components\n",
    "tailagent.sources = execsource\n",
    "tailagent.channels = memchannel\n",
    "tailagent.sinks = hdfssink\n",
    "\n",
    "# Configuring source\n",
    "tailagent.sources.execsource.type = exec\n",
    "tailagent.sources.execsource.command = tail -F /tmp/events\n",
    "\n",
    "# Configuring sink\n",
    "tailagent.sinks.hdfssink.type = hdfs\n",
    "tailagent.sinks.hdfssink.hdfs.path = /tmp\n",
    "tailagent.sinks.hdfssink.hdfs.filePrefix = tailevents-\n",
    "tailagent.sinks.hdfssink.hdfs.fileType = DataStream\n",
    "\n",
    "# Configuring channel\n",
    "tailagent.channels.memchannel.type = memory\n",
    "\n",
    "# Bind the source and sink to the channel \n",
    "tailagent.sources.execsource.channels = memchannel\n",
    "tailagent.sinks.hdfssink.channel = memchannel"
   ]
  },
  {
   "cell_type": "code",
   "execution_count": 9,
   "metadata": {},
   "outputs": [
    {
     "name": "stdout",
     "output_type": "stream",
     "text": [
      "UID          PID    PPID  C STIME TTY          TIME CMD\n",
      "hadoop      6523    6522  0 21:21 ?        00:00:00 /bin/bash /opt/flume/bin/flume-ng agent -n tailagent -c ./conf -f ./conf/tailagent.conf\n"
     ]
    }
   ],
   "source": [
    "%%bash\n",
    "\n",
    "# run agent in background\n",
    "cd /opt/flume\n",
    "\n",
    "flume-ng agent -n tailagent -c ./conf \\\n",
    "-f ./conf/tailagent.conf > ./tailagent.output 2>&1 &\n",
    "echo $! > ./tailagent.pid\n",
    "\n",
    "ps -fp $(cat ./tailagent.pid)"
   ]
  },
  {
   "cell_type": "code",
   "execution_count": 10,
   "metadata": {},
   "outputs": [
    {
     "name": "stdout",
     "output_type": "stream",
     "text": [
      "UID          PID    PPID  C STIME TTY          TIME CMD\n",
      "hadoop      6656    6653  0 21:22 ?        00:00:00 bash\n"
     ]
    }
   ],
   "source": [
    "%%bash\n",
    "\n",
    "# run random generator in background\n",
    "cd /opt/flume\n",
    "\n",
    "cat > randomgen.sh << EOF\n",
    "while true\n",
    "do\n",
    "    echo \\${RANDOM} >> /tmp/events\n",
    "    sleep 1\n",
    "done\n",
    "EOF\n",
    "\n",
    "chmod +x randomgen.sh\n",
    "./randomgen.sh > /dev/null 2>&1 &\n",
    "echo $! > ./randomgen.pid\n",
    "\n",
    "ps -fp $(cat ./randomgen.pid)"
   ]
  },
  {
   "cell_type": "code",
   "execution_count": 12,
   "metadata": {},
   "outputs": [
    {
     "name": "stdout",
     "output_type": "stream",
     "text": [
      "-rw-r--r--   2 hadoop supergroup         55 2021-06-27 21:22 /tmp/tailevents-.1624828948256\n",
      "-rw-r--r--   2 hadoop supergroup         56 2021-06-27 21:22 /tmp/tailevents-.1624828948257\n",
      "-rw-r--r--   2 hadoop supergroup         58 2021-06-27 21:22 /tmp/tailevents-.1624828948258\n",
      "-rw-r--r--   2 hadoop supergroup         58 2021-06-27 21:23 /tmp/tailevents-.1624828948259\n",
      "-rw-r--r--   2 hadoop supergroup          0 2021-06-27 21:23 /tmp/tailevents-.1624828948260.tmp\n"
     ]
    }
   ],
   "source": [
    "%%bash\n",
    "\n",
    "# check files generated in HDFS\n",
    "hdfs dfs -ls /tmp/tailevents*"
   ]
  },
  {
   "cell_type": "code",
   "execution_count": 13,
   "metadata": {},
   "outputs": [
    {
     "name": "stdout",
     "output_type": "stream",
     "text": [
      "4308\n",
      "30433\n",
      "24720\n",
      "11196\n",
      "24570\n",
      "8321\n",
      "2580\n",
      "16701\n",
      "7703\n",
      "2517\n",
      "2763\n",
      "19774\n",
      "24041\n",
      "7424\n",
      "1814\n",
      "18229\n",
      "7919\n",
      "25994\n",
      "25194\n",
      "10512\n",
      "30738\n",
      "1007\n",
      "25130\n",
      "21030\n",
      "25301\n",
      "8267\n",
      "22361\n",
      "16686\n",
      "15422\n",
      "13443\n",
      "12395\n",
      "22523\n",
      "11434\n",
      "3349\n",
      "26125\n",
      "1759\n",
      "15299\n",
      "16053\n",
      "10045\n",
      "19450\n"
     ]
    }
   ],
   "source": [
    "%%bash\n",
    "\n",
    "# cat files\n",
    "hdfs dfs -cat /tmp/tailevents*"
   ]
  },
  {
   "cell_type": "code",
   "execution_count": 14,
   "metadata": {},
   "outputs": [
    {
     "name": "stdout",
     "output_type": "stream",
     "text": [
      "Deleted /tmp/tailevents-.1624828948256\n",
      "Deleted /tmp/tailevents-.1624828948257\n",
      "Deleted /tmp/tailevents-.1624828948258\n",
      "Deleted /tmp/tailevents-.1624828948259\n",
      "Deleted /tmp/tailevents-.1624828948260\n",
      "Deleted /tmp/tailevents-.1624828948261\n",
      "Deleted /tmp/tailevents-.1624828948262\n",
      "Deleted /tmp/tailevents-.1624828948263.tmp\n"
     ]
    }
   ],
   "source": [
    "%%bash\n",
    "\n",
    "cd /opt/flume\n",
    "\n",
    "# kill random generator\n",
    "kill $(cat randomgen.pid)\n",
    "rm randomgen.pid\n",
    "\n",
    "# kill tailagent\n",
    "kill $(cat tailagent.pid)\n",
    "rm tailagent.pid\n",
    "rm tailagent.output\n",
    "\n",
    "# remove files\n",
    "hdfs dfs -rm /tmp/tailevents*"
   ]
  },
  {
   "cell_type": "code",
   "execution_count": null,
   "metadata": {},
   "outputs": [],
   "source": []
  }
 ],
 "metadata": {
  "kernelspec": {
   "display_name": "Python 3",
   "language": "python",
   "name": "python3"
  },
  "language_info": {
   "codemirror_mode": {
    "name": "ipython",
    "version": 3
   },
   "file_extension": ".py",
   "mimetype": "text/x-python",
   "name": "python",
   "nbconvert_exporter": "python",
   "pygments_lexer": "ipython3",
   "version": "3.6.9"
  }
 },
 "nbformat": 4,
 "nbformat_minor": 4
}
